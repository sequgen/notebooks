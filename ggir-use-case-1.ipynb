{
 "cells": [
  {
   "cell_type": "markdown",
   "metadata": {},
   "source": [
    "# GGIR use case 1\n",
    "\n",
    "This use case requires the generation of three signals: rest, sleep and main bed period. All signals appear in a time signal between 12:00 noon and 12:00 next day. Each signal consists of two binary signals: period starts and period ends. For reference, there is a larger [description of this use case](https://github.com/sequgen/sequgen/issues/21) as well as a [visualization](https://cran.r-project.org/web/packages/GGIR/vignettes/GGIR.html#42_Output_part_4) of the time signals (click on the tab `4.2.3 visualisation_sleep.pdf`)."
   ]
  },
  {
   "cell_type": "markdown",
   "metadata": {},
   "source": [
    "## 1. Time axis\n",
    "\n",
    "We model the time axis as a discrete list of minutes starting at 12\\*60 and ending at 36\\*60"
   ]
  },
  {
   "cell_type": "code",
   "execution_count": 1,
   "metadata": {},
   "outputs": [],
   "source": [
    "import numpy as np\n",
    "\n",
    "time_axis = np.arange(12*60, 36*60+1)"
   ]
  },
  {
   "cell_type": "markdown",
   "metadata": {},
   "source": [
    "## 2. Channels\n",
    "\n",
    "We define how many peaks we want, of what width and at what location"
   ]
  },
  {
   "cell_type": "code",
   "execution_count": 2,
   "metadata": {},
   "outputs": [],
   "source": [
    "import random\n",
    "from sequgen.dimension import Dimension\n",
    "from sequgen.parameter_space import ParameterSpace\n",
    "\n",
    "\n",
    "MAXIMUM_FAILED_TRIES = 100\n",
    "\n",
    "\n",
    "def peaks_overlap(peaks):\n",
    "    peaks = peaks_sort(peaks)\n",
    "    for i in range(0, len(peaks)-1):\n",
    "        if peaks[i]['location'] + peaks[i]['width'] >= peaks[i+1]['location']:\n",
    "            return(True)\n",
    "    return(False)\n",
    "\n",
    "\n",
    "def peaks_sort(peaks):\n",
    "    return([ peak for peak in sorted(peaks, key=lambda p:p['location']) ])\n",
    "\n",
    "\n",
    "def peaks_generate(parameter_space, iterations):\n",
    "    peaks = []\n",
    "    failed_tries = 0\n",
    "    while len(peaks) < iterations and failed_tries < MAXIMUM_FAILED_TRIES:\n",
    "        new_peak = parameter_space.sample()\n",
    "        if peaks_overlap(peaks + [new_peak]):\n",
    "            failed_tries += 1\n",
    "        else:\n",
    "            peaks.append(new_peak)\n",
    "            peaks = peaks_sort(peaks)\n",
    "            failed_tries = 0\n",
    "    return peaks"
   ]
  },
  {
   "cell_type": "code",
   "execution_count": 3,
   "metadata": {},
   "outputs": [],
   "source": [
    "def make_bed_time():\n",
    "    parameter_space = ParameterSpace([\n",
    "        Dimension(\"location\", 60*22, 60*26),\n",
    "        Dimension(\"width\", 60*6, 60*9),\n",
    "    ])\n",
    "    bed_time = peaks_generate(parameter_space, 1)\n",
    "    return(bed_time)"
   ]
  },
  {
   "cell_type": "code",
   "execution_count": 4,
   "metadata": {},
   "outputs": [],
   "source": [
    "def make_pre_bed_time_rests(bed_time):\n",
    "    iterations_pre_bed_time = random.randint(0, 5)\n",
    "    parameter_space = ParameterSpace([\n",
    "        Dimension(\"location\", time_axis[0], bed_time[0][\"location\"]),\n",
    "        Dimension(\"width\", 10, 30),\n",
    "    ])\n",
    "    pre_bed_time_rests = peaks_generate(parameter_space, iterations_pre_bed_time)\n",
    "    return(pre_bed_time_rests)"
   ]
  },
  {
   "cell_type": "code",
   "execution_count": 5,
   "metadata": {},
   "outputs": [],
   "source": [
    "def make_bed_time_rests(bed_time):\n",
    "    iterations_bed_time = random.randint(0, 3)\n",
    "    parameter_space = ParameterSpace([\n",
    "        Dimension(\"location\", bed_time[0][\"location\"], bed_time[0][\"location\"]+bed_time[0][\"width\"]),\n",
    "        Dimension(\"width\", 60*2, 60*8),\n",
    "    ])\n",
    "    bed_time_rests = peaks_generate(parameter_space, iterations_bed_time)\n",
    "    return(bed_time_rests)"
   ]
  },
  {
   "cell_type": "code",
   "execution_count": 6,
   "metadata": {},
   "outputs": [],
   "source": [
    "def make_post_bed_time_rests(bed_time):\n",
    "    iterations_post_bed_time = random.randint(0, 1)\n",
    "    parameter_space = ParameterSpace([\n",
    "        Dimension(\"location\", bed_time[0][\"location\"]+bed_time[0][\"width\"], time_axis[-1]),\n",
    "        Dimension(\"width\", 10, 30),\n",
    "    ])\n",
    "    post_bed_time_rests = peaks_generate(parameter_space, iterations_post_bed_time)\n",
    "    return(post_bed_time_rests)"
   ]
  },
  {
   "cell_type": "code",
   "execution_count": 7,
   "metadata": {},
   "outputs": [],
   "source": [
    "def make_sleep_periods(pre_bed_time_rests, bed_time_rests, post_bed_time_rests):\n",
    "    sleep_periods = []\n",
    "    for rest in pre_bed_time_rests + bed_time_rests + post_bed_time_rests:\n",
    "        iterations = random.randint(0, 2)\n",
    "        parameter_space = ParameterSpace([\n",
    "            Dimension(\"location\", rest[\"location\"], rest[\"location\"]+rest[\"width\"]),\n",
    "            Dimension(\"width\", 0.5*rest[\"width\"], rest[\"width\"]),\n",
    "        ])\n",
    "        sleep_periods.extend(peaks_generate(parameter_space, iterations))\n",
    "    return(sleep_periods)"
   ]
  },
  {
   "cell_type": "code",
   "execution_count": 8,
   "metadata": {},
   "outputs": [],
   "source": [
    "def make_signal():\n",
    "    bed_time = make_bed_time()\n",
    "    pre_bed_time_rests = make_pre_bed_time_rests(bed_time)\n",
    "    bed_time_rests = make_bed_time_rests(bed_time)\n",
    "    post_bed_time_rests = make_post_bed_time_rests(bed_time)\n",
    "    sleep_periods = make_sleep_periods(pre_bed_time_rests, bed_time_rests, post_bed_time_rests)\n",
    "    return(bed_time, pre_bed_time_rests, bed_time_rests, post_bed_time_rests, sleep_periods)"
   ]
  },
  {
   "cell_type": "code",
   "execution_count": 9,
   "metadata": {},
   "outputs": [],
   "source": [
    "import matplotlib.pyplot as plt\n",
    "from matplotlib.patches import StepPatch\n",
    "\n",
    "\n",
    "def make_edges_and_values(periods, height=1):\n",
    "    values = []\n",
    "    edges = []\n",
    "    for period in periods:\n",
    "        edges.append(period['location'])\n",
    "        values.append(height)\n",
    "        edges.append(period['location']+period['width'])\n",
    "        values.append(0)\n",
    "    edges.append(edges[-1]+1)\n",
    "    return(edges, values)\n",
    "\n",
    "def plot(rest, sleep, bedtime):\n",
    "    fig, axs = plt.subplots(3, 1, figsize=(10,4))\n",
    "    edges, values = make_edges_and_values(sleep)\n",
    "    patch = StepPatch(values=values, edges=edges, color=\"C2\", label=\"sleep periods\")\n",
    "    axs[0].add_patch(patch)\n",
    "    axs[0].set_xlim(time_axis[0], time_axis[-1])\n",
    "    axs[0].set_ylim(0, 2)\n",
    "    axs[0].tick_params(left=False, labelleft=False)\n",
    "    axs[0].legend()\n",
    "    edges, values = make_edges_and_values(rest, height=-1)\n",
    "    patch = StepPatch(values=values, edges=edges, color=\"C8\", label=\"rest periods\")\n",
    "    axs[1].add_patch(patch)\n",
    "    axs[1].set_xlim(time_axis[0], time_axis[-1])\n",
    "    axs[1].set_ylim(-2, 0)\n",
    "    axs[1].tick_params(left=False, labelleft=False)\n",
    "    axs[1].legend()\n",
    "    edges, values = make_edges_and_values(bed_time)\n",
    "    patch = StepPatch(values=values, edges=edges, color=\"C7\", label=\"main bedtime\")\n",
    "    axs[2].add_patch(patch)\n",
    "    axs[2].set_xlim(time_axis[0], time_axis[-1])\n",
    "    axs[2].set_ylim(0, 2)\n",
    "    axs[2].tick_params(left=False, labelleft=False)\n",
    "    axs[2].legend()\n",
    "    plt.show()"
   ]
  },
  {
   "cell_type": "markdown",
   "metadata": {},
   "source": [
    "## Generate and plot"
   ]
  },
  {
   "cell_type": "code",
   "execution_count": 10,
   "metadata": {},
   "outputs": [
    {
     "data": {
      "image/png": "[encoded data removed]",
      "text/plain": [
       "<Figure size 720x288 with 3 Axes>"
      ]
     },
     "metadata": {
      "needs_background": "light"
     },
     "output_type": "display_data"
    }
   ],
   "source": [
    "bed_time, pre_bed_time_rests, bed_time_rests, post_bed_time_rests, sleep_periods = make_signal()\n",
    "plot(pre_bed_time_rests + bed_time_rests + post_bed_time_rests, sleep_periods, bed_time)"
   ]
  },
  {
   "cell_type": "code",
   "execution_count": null,
   "metadata": {},
   "outputs": [],
   "source": []
  }
 ],
 "metadata": {
  "kernelspec": {
   "display_name": "sequgen-notebooks",
   "language": "python",
   "name": "sequgen-notebooks"
  },
  "language_info": {
   "codemirror_mode": {
    "name": "ipython",
    "version": 3
   },
   "file_extension": ".py",
   "mimetype": "text/x-python",
   "name": "python",
   "nbconvert_exporter": "python",
   "pygments_lexer": "ipython3",
   "version": "3.7.5"
  }
 },
 "nbformat": 4,
 "nbformat_minor": 4
}
