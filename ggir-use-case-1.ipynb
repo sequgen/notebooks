{
 "cells": [
  {
   "cell_type": "markdown",
   "metadata": {},
   "source": [
    "# GGIR use case 1\n",
    "\n",
    "This use case requires the generation of three signals: rest, sleep and main bed period. All signals appear in a time signal between 12:00 noon and 12:00 next day. Each signal consists of two binary signals: period starts and period ends. For reference, there is a larger [description of this use case](https://github.com/sequgen/sequgen/issues/21) as well as a [visualization](https://cran.r-project.org/web/packages/GGIR/vignettes/GGIR.html#42_Output_part_4) of the time signals (click on the tab `4.2.3 visualisation_sleep.pdf`)."
   ]
  },
  {
   "cell_type": "markdown",
   "metadata": {},
   "source": [
    "## 1. Time axis\n",
    "\n",
    "We model the time axis as a discrete list of minutes starting at 12\\*60 and ending at 36\\*60"
   ]
  },
  {
   "cell_type": "code",
   "execution_count": 1,
   "metadata": {},
   "outputs": [],
   "source": [
    "import numpy as np\n",
    "\n",
    "time_axis = np.arange(12*60, 36*60+1)"
   ]
  },
  {
   "cell_type": "markdown",
   "metadata": {},
   "source": [
    "## 2. Channels\n",
    "\n",
    "We start with a zero signal"
   ]
  },
  {
   "cell_type": "code",
   "execution_count": 2,
   "metadata": {},
   "outputs": [],
   "source": [
    "from sequgen.deterministic.constant import constant\n",
    "\n",
    "channel_1 = constant(time_axis, 0)"
   ]
  },
  {
   "cell_type": "markdown",
   "metadata": {},
   "source": [
    "Next, we define how many peaks we want, of what width and at what location"
   ]
  },
  {
   "cell_type": "code",
   "execution_count": 3,
   "metadata": {},
   "outputs": [],
   "source": [
    "import random\n",
    "from sequgen.dimension import Dimension\n",
    "from sequgen.parameter_space import ParameterSpace\n",
    "\n",
    "def overlap(peaks):\n",
    "    peaks = [ peak for peak in sorted(peaks, key=lambda p:p['location']) ]\n",
    "    for i in range(0, len(peaks)-1):\n",
    "        if peaks[i]['location'] + peaks[i]['width'] >= peaks[i+1]['location']:\n",
    "            return(True)\n",
    "    return(False)\n",
    "\n",
    "iterations = random.randint(8,12)\n",
    "peaks = []\n",
    "start_time = time_axis[0]\n",
    "while len(peaks) < iterations:\n",
    "    channel_1_parameter_space = ParameterSpace([\n",
    "        Dimension(\"location\", start_time, time_axis[-1]),\n",
    "        Dimension(\"width\", 10, 30),\n",
    "    ])\n",
    "    new_peak = channel_1_parameter_space.sample()\n",
    "    if not overlap(peaks+[new_peak]):\n",
    "        peaks.append(new_peak)"
   ]
  },
  {
   "cell_type": "code",
   "execution_count": 4,
   "metadata": {},
   "outputs": [
    {
     "data": {
      "text/plain": [
       "[{'location': 844.6832038089898, 'width': 28.86811004628262},\n",
       " {'location': 1607.0707313223427, 'width': 27.832839252549945},\n",
       " {'location': 1258.2611848841843, 'width': 17.969290975131415},\n",
       " {'location': 1824.0410289912827, 'width': 25.339087800995205},\n",
       " {'location': 1478.172539982449, 'width': 27.763902801091426},\n",
       " {'location': 1674.2902318654558, 'width': 21.796208634427515},\n",
       " {'location': 2138.1054655357575, 'width': 15.316048374888132},\n",
       " {'location': 1073.2816828555506, 'width': 28.992778326933664},\n",
       " {'location': 1281.2940788829344, 'width': 11.007700940398312},\n",
       " {'location': 1428.6736924064255, 'width': 19.743754138923432}]"
      ]
     },
     "execution_count": 4,
     "metadata": {},
     "output_type": "execute_result"
    }
   ],
   "source": [
    "peaks"
   ]
  },
  {
   "cell_type": "code",
   "execution_count": null,
   "metadata": {},
   "outputs": [],
   "source": []
  }
 ],
 "metadata": {
  "kernelspec": {
   "display_name": "sequgen-notebooks",
   "language": "python",
   "name": "sequgen-notebooks"
  },
  "language_info": {
   "codemirror_mode": {
    "name": "ipython",
    "version": 3
   },
   "file_extension": ".py",
   "mimetype": "text/x-python",
   "name": "python",
   "nbconvert_exporter": "python",
   "pygments_lexer": "ipython3",
   "version": "3.7.5"
  }
 },
 "nbformat": 4,
 "nbformat_minor": 4
}
