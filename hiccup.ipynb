{
 "cells": [
  {
   "cell_type": "markdown",
   "id": "adaptive-brisbane",
   "metadata": {},
   "source": [
    "# The hiccups\n",
    "\n",
    "As a researcher I am interested in detecting hiccup I want to generate some time series.\n",
    "The scenario I want to model is\n",
    "* Hiccups should be observed for a week, except during sleeping (23:00 - 8:00).\n",
    "* A hiccup happens once an hour at a random time\n",
    "* Time series should have a time point every minute\n",
    "\n",
    "Other scenarios that would nice\n",
    "1. Multiple hiccups occur in a bout (see https://en.wikipedia.org/wiki/Hiccup for histogram)\n",
    "1. Person has infrequent multiple hiccups once a day\n",
    "1. Person has higher chance of hiccup after eating (from 8:00 - 9:00, 12:00 - 13:00 and 18:00 - 19:00)"
   ]
  },
  {
   "cell_type": "code",
   "execution_count": 17,
   "id": "secondary-latvia",
   "metadata": {},
   "outputs": [],
   "source": [
    "import matplotlib.pyplot as plt\n",
    "import numpy as np\n",
    "from sequgen.deterministic.triangular_peak import triangular_peak\n",
    "from sequgen.dimension import Dimension\n",
    "from sequgen.parameter_space import ParameterSpace\n"
   ]
  },
  {
   "cell_type": "code",
   "execution_count": 30,
   "id": "chemical-perth",
   "metadata": {},
   "outputs": [],
   "source": [
    "timepoints = (np.concatenate((\n",
    "    np.arange('2020-03-01T08:00', '2020-03-01T23:00', dtype='datetime64[m]'),\n",
    "    np.arange('2020-03-02T08:00', '2020-03-02T23:00', dtype='datetime64[m]'),\n",
    "    np.arange('2020-03-03T08:00', '2020-03-03T23:00', dtype='datetime64[m]'),\n",
    "    np.arange('2020-03-04T08:00', '2020-03-04T23:00', dtype='datetime64[m]'),\n",
    "    np.arange('2020-03-05T08:00', '2020-03-05T23:00', dtype='datetime64[m]'),\n",
    "))  - np.datetime64('2020-03-01T08:00')).astype(int)  # Convert datatimes into minutes since 2020-03-01T08:00"
   ]
  },
  {
   "cell_type": "code",
   "execution_count": 55,
   "id": "steady-hybrid",
   "metadata": {},
   "outputs": [],
   "source": [
    "space = ParameterSpace((\n",
    "    Dimension('placement', 0, 59),  # minute in an hour\n",
    "    Dimension('height', 5, 10),  # severity\n",
    "))\n",
    "\n",
    "hiccups = np.zeros(len(timepoints), dtype=float)\n",
    "for day in range(5):\n",
    "    for hour in range(15):\n",
    "        parameters = space.sample()\n",
    "        # TODO offset is wrong, expected 9 peaks per days, but that does not happen\n",
    "        parameters['placement'] += day * 900 + hour * 60 + 8 * 60 # add offset\n",
    "        hiccup = triangular_peak(timepoints, width_base_left=0, width_base_right=2, **parameters) # TODO unable to make peak of 1 time point\n",
    "        hiccups += hiccup\n",
    "        "
   ]
  },
  {
   "cell_type": "code",
   "execution_count": 56,
   "id": "competent-delicious",
   "metadata": {},
   "outputs": [
    {
     "data": {
      "image/png": "[encoded data removed]",
      "text/plain": [
       "<Figure size 1440x288 with 1 Axes>"
      ]
     },
     "metadata": {
      "needs_background": "light"
     },
     "output_type": "display_data"
    }
   ],
   "source": [
    "def plot(title, x, y):\n",
    "    plt.figure(figsize=(20, 4))\n",
    "    plt.plot(x, y, \".b-\")\n",
    "    plt.title(title)\n",
    "    plt.grid(True)\n",
    "    plt.show()\n",
    "    \n",
    "plot('Hiccups', timepoints, hiccups)"
   ]
  },
  {
   "cell_type": "code",
   "execution_count": 57,
   "id": "dimensional-worst",
   "metadata": {},
   "outputs": [
    {
     "data": {
      "text/plain": [
       "array([0.        , 0.        , 0.        , 0.        , 0.        ,\n",
       "       3.75605529, 0.40595654, 0.        , 0.        , 0.        ,\n",
       "       0.        , 0.        , 0.        , 0.        , 0.        ,\n",
       "       0.        , 0.        , 0.        , 0.        , 0.        ,\n",
       "       0.        , 0.        , 0.        , 0.        , 0.        ,\n",
       "       0.        , 0.        , 0.        , 0.        , 0.        ,\n",
       "       0.        , 0.        , 0.        , 0.        , 0.        ,\n",
       "       0.        , 0.        , 0.        , 0.        , 0.        ,\n",
       "       0.        , 0.        , 0.        , 0.        , 0.        ,\n",
       "       0.        , 0.        , 0.        , 0.        , 0.        ,\n",
       "       0.        , 0.        , 0.        , 0.        , 0.        ,\n",
       "       0.        , 0.        , 0.        , 0.        , 0.        ,\n",
       "       0.        , 0.        , 0.        , 0.        , 0.        ,\n",
       "       0.        , 0.        , 0.        , 0.        , 0.        ,\n",
       "       0.        , 3.48577532, 0.88542297, 0.        , 0.        ,\n",
       "       0.        , 0.        , 0.        , 0.        , 0.        ,\n",
       "       0.        , 0.        , 0.        , 0.        , 0.        ,\n",
       "       0.        , 0.        , 0.        , 0.        , 0.        ,\n",
       "       0.        , 0.        , 0.        , 0.        , 0.        ,\n",
       "       0.        , 0.        , 0.        , 0.        , 0.        ,\n",
       "       0.        , 0.        , 0.        , 0.        , 0.        ,\n",
       "       0.        , 0.        , 0.        , 0.        , 0.        ,\n",
       "       0.        , 0.        , 0.        , 0.        , 0.        ,\n",
       "       0.        , 0.        , 0.        , 0.        , 0.        ,\n",
       "       0.        , 0.        , 0.        , 0.        , 0.        ,\n",
       "       0.        , 0.        , 0.        , 0.        , 0.        ,\n",
       "       0.        , 0.        , 0.        , 0.        , 0.        ,\n",
       "       0.        , 0.        , 0.        , 0.        , 0.        ,\n",
       "       0.        , 0.        , 0.        , 3.41331185, 0.5211151 ,\n",
       "       0.        , 0.        , 0.        , 0.        , 0.        ,\n",
       "       0.        , 0.        , 0.        , 0.        , 0.        ,\n",
       "       0.        , 0.        , 0.        , 0.        , 0.        ,\n",
       "       0.        , 0.        , 0.        , 0.        , 0.        ,\n",
       "       0.        , 0.        , 0.        , 0.        , 0.        ,\n",
       "       0.        , 0.        , 0.        , 0.        , 0.        ,\n",
       "       0.        , 0.        , 0.        , 0.        , 0.        ,\n",
       "       0.        , 0.        , 0.        , 0.        , 0.        ,\n",
       "       0.        , 0.        , 0.        , 0.        , 0.        ,\n",
       "       0.        , 0.        , 0.        , 0.        , 0.        ,\n",
       "       0.        , 3.44762909, 0.06986861, 0.        , 0.        ])"
      ]
     },
     "execution_count": 57,
     "metadata": {},
     "output_type": "execute_result"
    }
   ],
   "source": [
    "hiccups[600:800]"
   ]
  },
  {
   "cell_type": "code",
   "execution_count": null,
   "id": "theoretical-capital",
   "metadata": {},
   "outputs": [],
   "source": []
  }
 ],
 "metadata": {
  "kernelspec": {
   "display_name": "Python 3",
   "language": "python",
   "name": "python3"
  },
  "language_info": {
   "codemirror_mode": {
    "name": "ipython",
    "version": 3
   },
   "file_extension": ".py",
   "mimetype": "text/x-python",
   "name": "python",
   "nbconvert_exporter": "python",
   "pygments_lexer": "ipython3",
   "version": "3.8.5"
  }
 },
 "nbformat": 4,
 "nbformat_minor": 5
}
