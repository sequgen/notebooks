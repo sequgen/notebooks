{
 "cells": [
  {
   "cell_type": "markdown",
   "metadata": {},
   "source": [
    "# `sequgen` demo"
   ]
  },
  {
   "cell_type": "markdown",
   "metadata": {},
   "source": [
    "Print the version of the library as used in this demonstration:"
   ]
  },
  {
   "cell_type": "code",
   "execution_count": 5,
   "metadata": {},
   "outputs": [
    {
     "data": {
      "text/plain": [
       "'0.1.0'"
      ]
     },
     "execution_count": 5,
     "metadata": {},
     "output_type": "execute_result"
    }
   ],
   "source": [
    "from sequgen.__version__ import __version__\n",
    "\n",
    "\n",
    "__version__"
   ]
  },
  {
   "cell_type": "markdown",
   "metadata": {},
   "source": [
    "Import core classes and run `sequgen`'s minimum viable product:"
   ]
  },
  {
   "cell_type": "code",
   "execution_count": 6,
   "metadata": {},
   "outputs": [
    {
     "data": {
      "image/png": "[encoded data removed]",
      "text/plain": [
       "<Figure size 432x288 with 1 Axes>"
      ]
     },
     "metadata": {
      "needs_background": "light"
     },
     "output_type": "display_data"
    }
   ],
   "source": [
    "from matplotlib import pyplot as plt\n",
    "import numpy\n",
    "from sequgen.deterministic.triangular_peak import triangular_peak\n",
    "from sequgen.parameter_space import ParameterSpace\n",
    "from sequgen.dimension import Dimension\n",
    "\n",
    "\n",
    "def test_mvp():\n",
    "\n",
    "    # where I want the model to predict values\n",
    "    t_predict = numpy.linspace(-2, 20, 100)\n",
    "\n",
    "    parameter_space = ParameterSpace([\n",
    "        Dimension(\"height\", 1, 2),\n",
    "        Dimension(\"placement\", 3, 10),\n",
    "        Dimension(\"width_base_left\", 0.5),\n",
    "        Dimension(\"width_base_right\", 2.0, 3.0),\n",
    "    ])\n",
    "\n",
    "    # draw a sample of the parameter space for each space\n",
    "    parameters = parameter_space.sample()\n",
    "\n",
    "    # generate predictions of y at t_predict using the model and the parameterization\n",
    "    y_predict = triangular_peak(t_predict, **parameters)\n",
    "\n",
    "    # plot to verify\n",
    "    plt.figure()\n",
    "    plt.plot(t_predict, y_predict, \".b-\")\n",
    "    plt.title(parameter_space.format_str().format(**parameters))\n",
    "    plt.show()\n",
    "\n",
    "\n",
    "if __name__ == \"__main__\":\n",
    "    test_mvp()\n"
   ]
  },
  {
   "cell_type": "code",
   "execution_count": null,
   "metadata": {},
   "outputs": [],
   "source": []
  }
 ],
 "metadata": {
  "kernelspec": {
   "display_name": "sequgen-demo",
   "language": "python",
   "name": "sequgen-demo"
  },
  "language_info": {
   "codemirror_mode": {
    "name": "ipython",
    "version": 3
   },
   "file_extension": ".py",
   "mimetype": "text/x-python",
   "name": "python",
   "nbconvert_exporter": "python",
   "pygments_lexer": "ipython3",
   "version": "3.6.9"
  }
 },
 "nbformat": 4,
 "nbformat_minor": 5
}
