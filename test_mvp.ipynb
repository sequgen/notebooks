{
 "cells": [
  {
   "cell_type": "markdown",
   "id": "9abc3725",
   "metadata": {},
   "source": [
    "# `sequgen` demo\n",
    "\n",
    "This demo shows how to create a timeseries with sequgen. Before we can run the software, we first need to to load a few packages."
   ]
  },
  {
   "cell_type": "code",
   "execution_count": 1,
   "id": "aaea2fc5",
   "metadata": {},
   "outputs": [],
   "source": [
    "from matplotlib import pyplot as plt\n",
    "import numpy\n",
    "from sequgen.deterministic.triangular_peak import triangular_peak\n",
    "from sequgen.parameter_space import ParameterSpace\n",
    "from sequgen.dimension import Dimension"
   ]
  },
  {
   "cell_type": "markdown",
   "id": "27e5b5f6",
   "metadata": {},
   "source": [
    "## Time series with static parameters\n",
    "\n",
    "The time series will consist of two parts: the time points and the data points. For the time points we want to use space between the numbers 0 and 20. We want to divide that space in 100 equal sections so we need 101 points: 100 at the beginning of each section and 1 and the end of the final section. We can define these time points with this command:"
   ]
  },
  {
   "cell_type": "code",
   "execution_count": 2,
   "id": "cf4998c0",
   "metadata": {},
   "outputs": [],
   "source": [
    "time_points = numpy.linspace(start=0, stop=20, num=101)"
   ]
  },
  {
   "cell_type": "markdown",
   "id": "68932f9c",
   "metadata": {},
   "source": [
    "We can verify that this process has worked by checking the contents of the variable `time_points`:"
   ]
  },
  {
   "cell_type": "code",
   "execution_count": 3,
   "id": "0053a98b",
   "metadata": {},
   "outputs": [
    {
     "data": {
      "text/plain": [
       "array([ 0. ,  0.2,  0.4,  0.6,  0.8,  1. ,  1.2,  1.4,  1.6,  1.8,  2. ,\n",
       "        2.2,  2.4,  2.6,  2.8,  3. ,  3.2,  3.4,  3.6,  3.8,  4. ,  4.2,\n",
       "        4.4,  4.6,  4.8,  5. ,  5.2,  5.4,  5.6,  5.8,  6. ,  6.2,  6.4,\n",
       "        6.6,  6.8,  7. ,  7.2,  7.4,  7.6,  7.8,  8. ,  8.2,  8.4,  8.6,\n",
       "        8.8,  9. ,  9.2,  9.4,  9.6,  9.8, 10. , 10.2, 10.4, 10.6, 10.8,\n",
       "       11. , 11.2, 11.4, 11.6, 11.8, 12. , 12.2, 12.4, 12.6, 12.8, 13. ,\n",
       "       13.2, 13.4, 13.6, 13.8, 14. , 14.2, 14.4, 14.6, 14.8, 15. , 15.2,\n",
       "       15.4, 15.6, 15.8, 16. , 16.2, 16.4, 16.6, 16.8, 17. , 17.2, 17.4,\n",
       "       17.6, 17.8, 18. , 18.2, 18.4, 18.6, 18.8, 19. , 19.2, 19.4, 19.6,\n",
       "       19.8, 20. ])"
      ]
     },
     "execution_count": 3,
     "metadata": {},
     "output_type": "execute_result"
    }
   ],
   "source": [
    "time_points"
   ]
  },
  {
   "cell_type": "markdown",
   "id": "0d72cfc6",
   "metadata": {},
   "source": [
    "In this time space, we want to create a triangulary shaped signal starting at time point 5 at value 0, rising to value 1 at time point 6 and dropping back to value 0 at time point 10. The following command can achieve this:"
   ]
  },
  {
   "cell_type": "code",
   "execution_count": 4,
   "id": "5ea56755",
   "metadata": {},
   "outputs": [],
   "source": [
    "data_points = triangular_peak(time_points, **{'height': 1, 'location': 6, 'width_base_left': 1, 'width_base_right': 4})"
   ]
  },
  {
   "cell_type": "markdown",
   "id": "30c7830a",
   "metadata": {},
   "source": [
    "So we have asked for a triangular peak with height 1, placed at time position 6, where the left part of the triangle has width 1 (so it starts at 5) and the right part has width 4 (so it ends at time point 10). We can check the contents of the variable `data_points` to verify that the command has worked:"
   ]
  },
  {
   "cell_type": "code",
   "execution_count": 5,
   "id": "f0b55348",
   "metadata": {},
   "outputs": [
    {
     "data": {
      "text/plain": [
       "array([0.  , 0.  , 0.  , 0.  , 0.  , 0.  , 0.  , 0.  , 0.  , 0.  , 0.  ,\n",
       "       0.  , 0.  , 0.  , 0.  , 0.  , 0.  , 0.  , 0.  , 0.  , 0.  , 0.  ,\n",
       "       0.  , 0.  , 0.  , 0.  , 0.2 , 0.4 , 0.6 , 0.8 , 1.  , 0.95, 0.9 ,\n",
       "       0.85, 0.8 , 0.75, 0.7 , 0.65, 0.6 , 0.55, 0.5 , 0.45, 0.4 , 0.35,\n",
       "       0.3 , 0.25, 0.2 , 0.15, 0.1 , 0.05, 0.  , 0.  , 0.  , 0.  , 0.  ,\n",
       "       0.  , 0.  , 0.  , 0.  , 0.  , 0.  , 0.  , 0.  , 0.  , 0.  , 0.  ,\n",
       "       0.  , 0.  , 0.  , 0.  , 0.  , 0.  , 0.  , 0.  , 0.  , 0.  , 0.  ,\n",
       "       0.  , 0.  , 0.  , 0.  , 0.  , 0.  , 0.  , 0.  , 0.  , 0.  , 0.  ,\n",
       "       0.  , 0.  , 0.  , 0.  , 0.  , 0.  , 0.  , 0.  , 0.  , 0.  , 0.  ,\n",
       "       0.  , 0.  ])"
      ]
     },
     "execution_count": 5,
     "metadata": {},
     "output_type": "execute_result"
    }
   ],
   "source": [
    "data_points"
   ]
  },
  {
   "cell_type": "markdown",
   "id": "c94779fc",
   "metadata": {},
   "source": [
    "We notice that the standard value of the data points is zero. Only at the triangle that we have defined the values are non-zero. A graph provides a better view of the shape:"
   ]
  },
  {
   "cell_type": "code",
   "execution_count": 6,
   "id": "d277a1b7",
   "metadata": {},
   "outputs": [
    {
     "data": {
      "image/png": "[encoded data removed]",
      "text/plain": [
       "<Figure size 432x288 with 1 Axes>"
      ]
     },
     "metadata": {
      "needs_background": "light"
     },
     "output_type": "display_data"
    }
   ],
   "source": [
    "def plot(time_points, data_points, title):\n",
    "    plt.figure()\n",
    "    plt.plot(time_points, data_points, \".b-\")\n",
    "    plt.title(title)\n",
    "    plt.grid(True)\n",
    "    plt.show()\n",
    "\n",
    "title = \"triangular graph\"\n",
    "plot(time_points, data_points, title)"
   ]
  },
  {
   "cell_type": "markdown",
   "id": "f7b34937",
   "metadata": {},
   "source": [
    "## Time series with random parameters\n",
    "\n",
    "Often, we want to to allow for some variance in the signal. For example, we could have the height of the peak vary between 1 and 2, the peak position could vary between 3 and 10, the left width of the triangle could vary between 0.5 and 1, and the right width of the triangle could vary between 4 and 6. We can define these variations in a parameter space:"
   ]
  },
  {
   "cell_type": "code",
   "execution_count": 7,
   "id": "99523e75",
   "metadata": {},
   "outputs": [],
   "source": [
    "parameter_space = ParameterSpace([\n",
    "    Dimension(\"height\", 1, 2),\n",
    "    Dimension(\"location\", 3, 10),\n",
    "    Dimension(\"width_base_left\", 0.5, 1),\n",
    "    Dimension(\"width_base_right\", 4, 6),\n",
    "])"
   ]
  },
  {
   "cell_type": "markdown",
   "id": "ff6c6985",
   "metadata": {},
   "source": [
    "Next, we generate a set of arbitrary values based on this parameter space:"
   ]
  },
  {
   "cell_type": "code",
   "execution_count": 8,
   "id": "c0786608",
   "metadata": {},
   "outputs": [],
   "source": [
    "parameters = parameter_space.sample()"
   ]
  },
  {
   "cell_type": "markdown",
   "id": "14702db5",
   "metadata": {},
   "source": [
    "We can verify that the parameter value generation was successful by checking the value of the `parameters` variable:"
   ]
  },
  {
   "cell_type": "code",
   "execution_count": 9,
   "id": "50089040",
   "metadata": {},
   "outputs": [
    {
     "data": {
      "text/plain": [
       "{'height': 1.942114982053461,\n",
       " 'location': 3.4831936707423954,\n",
       " 'width_base_left': 0.6899571423850557,\n",
       " 'width_base_right': 5.148384577863842}"
      ]
     },
     "execution_count": 9,
     "metadata": {},
     "output_type": "execute_result"
    }
   ],
   "source": [
    "parameters"
   ]
  },
  {
   "cell_type": "markdown",
   "id": "160ff9be",
   "metadata": {},
   "source": [
    "Each time you run the `sample` command, you will get a different set of values. The parameters can be used to create new data points:"
   ]
  },
  {
   "cell_type": "code",
   "execution_count": 10,
   "id": "d2ebea0f",
   "metadata": {},
   "outputs": [],
   "source": [
    "variable_data_points = triangular_peak(time_points, **parameters)"
   ]
  },
  {
   "cell_type": "markdown",
   "id": "450c68a1",
   "metadata": {},
   "source": [
    "And the graph that corresponds with these data points can then be plotted. This time we mention the parameter values in the title of the graph:"
   ]
  },
  {
   "cell_type": "code",
   "execution_count": 11,
   "id": "f1e596ed",
   "metadata": {},
   "outputs": [
    {
     "data": {
      "image/png": "[encoded data removed]",
      "text/plain": [
       "<Figure size 432x288 with 1 Axes>"
      ]
     },
     "metadata": {
      "needs_background": "light"
     },
     "output_type": "display_data"
    }
   ],
   "source": [
    "title = parameter_space.format_str().format(**parameters)\n",
    "plot(time_points, variable_data_points, title)"
   ]
  },
  {
   "cell_type": "markdown",
   "id": "112acf73",
   "metadata": {},
   "source": [
    "Notice that this graph might have a slightly different shape than the previous one. This depends on the position of the peak. Only when the position of the peak (parameter `location`) coincides with a time point, will the signal shape be perfectly triangular. But since the peak position now is an arbitrary value, this is usually not the case. And when the peak position does not match a time point, the triangle can be slightly irregular at the top."
   ]
  }
 ],
 "metadata": {
  "kernelspec": {
   "display_name": "sequgen-demo",
   "language": "python",
   "name": "sequgen-demo"
  },
  "language_info": {
   "codemirror_mode": {
    "name": "ipython",
    "version": 3
   },
   "file_extension": ".py",
   "mimetype": "text/x-python",
   "name": "python",
   "nbconvert_exporter": "python",
   "pygments_lexer": "ipython3",
   "version": "3.6.9"
  }
 },
 "nbformat": 4,
 "nbformat_minor": 5
}
